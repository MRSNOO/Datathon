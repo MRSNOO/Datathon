{
 "cells": [
  {
   "cell_type": "code",
   "execution_count": 9,
   "id": "occupied-diabetes",
   "metadata": {},
   "outputs": [
    {
     "name": "stdout",
     "output_type": "stream",
     "text": [
      "Sat Feb  6 00:39:48 CST 2021\n",
      "Running on PyMC3 v3.9.3\n"
     ]
    }
   ],
   "source": [
    "!date\n",
    "import numpy as np\n",
    "import pandas as pd\n",
    "\n",
    "import pymc3 as pm\n",
    "import arviz as az\n",
    "import matplotlib.pyplot as plt\n",
    "import theano.tensor as tt\n",
    "import scipy.stats as stats\n",
    "import xlrd\n",
    "\n",
    "print(f\"Running on PyMC3 v{pm.__version__}\")\n",
    "az.style.use(\"arviz-darkgrid\")"
   ]
  },
  {
   "cell_type": "markdown",
   "id": "listed-novel",
   "metadata": {},
   "source": [
    "# GET AVG MONTHLY COST"
   ]
  },
  {
   "cell_type": "code",
   "execution_count": 43,
   "id": "balanced-contributor",
   "metadata": {},
   "outputs": [],
   "source": [
    "monthly = pd.read_csv(\"monthly_spent.csv\")\n",
    "monthly.head()\n",
    "avg_m_list = []\n",
    "\n",
    "for i, row in monthly.iterrows(): \n",
    "    pinned_agent = row[\"AGENCY\"]\n",
    "    total = 0\n",
    "    num = 0\n",
    "    break\n",
    "    \n",
    "for i, row in monthly.iterrows(): \n",
    "    curr_agent = row[\"AGENCY\"]\n",
    "#     print(curr_agent, pinned_agent)\n",
    "    if pinned_agent == curr_agent:\n",
    "        total += row[\"TRANSACTION_AMOUNT\"]\n",
    "        num += 1\n",
    "    else:\n",
    "        avg_m_list.append([pinned_agent, total/num])\n",
    "        pinned_agent = curr_agent\n",
    "        total = row[\"TRANSACTION_AMOUNT\"]\n",
    "        num = 1\n",
    "\n",
    "avg_m_list\n",
    "\n",
    "avg_monthly = pd.DataFrame(avg_m_list, columns=['AGENCY', 'AVG_MONTHLY'])\n",
    "avg_monthly.to_csv('avg_monthly.csv')"
   ]
  },
  {
   "cell_type": "code",
   "execution_count": null,
   "id": "animated-athens",
   "metadata": {},
   "outputs": [],
   "source": [
    "yearly = pd.read_csv(\"yearly_spent.csv\")\n",
    "monthly.head()\n",
    "avg_m_list = []\n",
    "\n",
    "for i, row in monthly.iterrows(): \n",
    "    pinned_agent = row[\"AGENCY\"]\n",
    "    total = 0\n",
    "    num = 0\n",
    "    break\n",
    "    \n",
    "for i, row in monthly.iterrows(): \n",
    "    curr_agent = row[\"AGENCY\"]\n",
    "#     print(curr_agent, pinned_agent)\n",
    "    if pinned_agent == curr_agent:\n",
    "        total += row[\"TRANSACTION_AMOUNT\"]\n",
    "        num += 1\n",
    "    else:\n",
    "        avg_m_list.append([pinned_agent, total/num])\n",
    "        pinned_agent = curr_agent\n",
    "        total = row[\"TRANSACTION_AMOUNT\"]\n",
    "        num = 1\n",
    "\n",
    "avg_m_list\n",
    "\n",
    "avg_monthly = pd.DataFrame(avg_m_list, columns=['AGENCY', 'AVG_MONTHLY'])\n",
    "avg_monthly.to_csv('avg_monthly.csv')"
   ]
  },
  {
   "cell_type": "code",
   "execution_count": null,
   "id": "reasonable-heater",
   "metadata": {},
   "outputs": [],
   "source": [
    "plt.scatter(bus['MedianFamilyIncome'], tracts_df['TLAPP'])\n",
    "plt.title(\"Correlation between Median Family Income and Avg Low Access Score by Population %\");\n",
    "plt.xlabel(\"Median Family Income\")\n",
    "plt.ylabel(\"Avg Low Access Score by Population %\")"
   ]
  },
  {
   "cell_type": "code",
   "execution_count": 8,
   "id": "theoretical-distribution",
   "metadata": {},
   "outputs": [
    {
     "ename": "IndentationError",
     "evalue": "unexpected indent (<ipython-input-8-9d3f3904af58>, line 5)",
     "output_type": "error",
     "traceback": [
      "\u001b[0;36m  File \u001b[0;32m\"<ipython-input-8-9d3f3904af58>\"\u001b[0;36m, line \u001b[0;32m5\u001b[0m\n\u001b[0;31m    ones = np.ones(k)\u001b[0m\n\u001b[0m    ^\u001b[0m\n\u001b[0;31mIndentationError\u001b[0m\u001b[0;31m:\u001b[0m unexpected indent\n"
     ]
    }
   ],
   "source": [
    "k = 4 # Number of clusters\n",
    "\n",
    "model = pm.Model()\n",
    "\n",
    "    ones = np.ones(k)\n",
    "    p = pm.Dirichlet('p', a=ones, shape=k)\n",
    "    \n",
    "    # Ensure all clusters have some points.\n",
    "    switch = tt.switch(tt.min(p) < 0.1, -np.inf, 0)  # If smallest element in distribution is < 0.1, then return -np.inf, else 0.\n",
    "    p_min_potential = pm.Potential(\"p_min_potential\", switch) \n",
    "    \n",
    "    sd = pm.Uniform(\"sd\", lower=0, upper=20)\n",
    "    \n",
    "    means = pm.Normal(\"means\", mu=[0, 0, 0], sigma=15, shape=k)\n",
    "    \n",
    "    # Break symmetry.\n",
    "    order_means_potential = pm.Potential(\n",
    "        \"order_means_potential\",\n",
    "        tt.switch(means[1] - means[0] < 0, -np.inf, 0)\n",
    "        + tt.switch(means[2] - means[1] < 0, -np.inf, 0),\n",
    "    )\n",
    "    #  If normal distributions are symmetric along the curve, value is -np.inf, else 0.\n",
    "\n",
    "    ### SD should be calculated each time, but for this set of gaussians, sd is the same\n",
    "    \n",
    "    ### DONE ndata TIMES ###\n",
    "    category = pm.Categorical(\"category\", p=p, shape=ndata)\n",
    "    # Good reading for categorical http://mlg.eng.cam.ac.uk/teaching/4f13/1617/discrete.pdf\n",
    "    \n",
    "    \n",
    "    # Get likelihood for each observed value.\n",
    "    points = pm.Normal(\"obs\", mu=means[category], sigma=sd, observed=data)"
   ]
  },
  {
   "cell_type": "code",
   "execution_count": 17,
   "id": "naughty-intent",
   "metadata": {},
   "outputs": [
    {
     "ename": "NameError",
     "evalue": "name 'model' is not defined",
     "output_type": "error",
     "traceback": [
      "\u001b[0;31m---------------------------------------------------------------------------\u001b[0m",
      "\u001b[0;31mNameError\u001b[0m                                 Traceback (most recent call last)",
      "\u001b[0;32m<ipython-input-17-cc115045131b>\u001b[0m in \u001b[0;36m<module>\u001b[0;34m\u001b[0m\n\u001b[0;32m----> 1\u001b[0;31m \u001b[0;32mwith\u001b[0m \u001b[0mmodel\u001b[0m\u001b[0;34m:\u001b[0m\u001b[0;34m\u001b[0m\u001b[0;34m\u001b[0m\u001b[0m\n\u001b[0m\u001b[1;32m      2\u001b[0m     \u001b[0mstep1\u001b[0m \u001b[0;34m=\u001b[0m \u001b[0mpm\u001b[0m\u001b[0;34m.\u001b[0m\u001b[0mMetropolis\u001b[0m\u001b[0;34m(\u001b[0m\u001b[0mvars\u001b[0m\u001b[0;34m=\u001b[0m\u001b[0;34m[\u001b[0m\u001b[0mp\u001b[0m\u001b[0;34m,\u001b[0m \u001b[0msd\u001b[0m\u001b[0;34m,\u001b[0m \u001b[0mmeans\u001b[0m\u001b[0;34m]\u001b[0m\u001b[0;34m)\u001b[0m\u001b[0;34m\u001b[0m\u001b[0;34m\u001b[0m\u001b[0m\n\u001b[1;32m      3\u001b[0m     \u001b[0mstep2\u001b[0m \u001b[0;34m=\u001b[0m \u001b[0mpm\u001b[0m\u001b[0;34m.\u001b[0m\u001b[0mCategoricalGibbsMetropolis\u001b[0m\u001b[0;34m(\u001b[0m\u001b[0mvars\u001b[0m\u001b[0;34m=\u001b[0m\u001b[0;34m[\u001b[0m\u001b[0mcategory\u001b[0m\u001b[0;34m]\u001b[0m\u001b[0;34m)\u001b[0m\u001b[0;34m\u001b[0m\u001b[0;34m\u001b[0m\u001b[0m\n\u001b[1;32m      4\u001b[0m     \u001b[0mtrace\u001b[0m \u001b[0;34m=\u001b[0m \u001b[0mpm\u001b[0m\u001b[0;34m.\u001b[0m\u001b[0msample\u001b[0m\u001b[0;34m(\u001b[0m\u001b[0;36m10000\u001b[0m\u001b[0;34m,\u001b[0m \u001b[0mstep\u001b[0m\u001b[0;34m=\u001b[0m\u001b[0;34m[\u001b[0m\u001b[0mstep1\u001b[0m\u001b[0;34m,\u001b[0m \u001b[0mstep2\u001b[0m\u001b[0;34m]\u001b[0m\u001b[0;34m,\u001b[0m \u001b[0mtune\u001b[0m\u001b[0;34m=\u001b[0m\u001b[0;36m5000\u001b[0m\u001b[0;34m)\u001b[0m\u001b[0;34m\u001b[0m\u001b[0;34m\u001b[0m\u001b[0m\n",
      "\u001b[0;31mNameError\u001b[0m: name 'model' is not defined"
     ]
    }
   ],
   "source": [
    "with model:\n",
    "    step1 = pm.Metropolis(vars=[p, sd, means])\n",
    "    step2 = pm.CategoricalGibbsMetropolis(vars=[category])\n",
    "    trace = pm.sample(10000, step=[step1, step2], tune=5000)"
   ]
  }
 ],
 "metadata": {
  "kernelspec": {
   "display_name": "Python 3",
   "language": "python",
   "name": "python3"
  },
  "language_info": {
   "codemirror_mode": {
    "name": "ipython",
    "version": 3
   },
   "file_extension": ".py",
   "mimetype": "text/x-python",
   "name": "python",
   "nbconvert_exporter": "python",
   "pygments_lexer": "ipython3",
   "version": "3.8.5"
  }
 },
 "nbformat": 4,
 "nbformat_minor": 5
}
